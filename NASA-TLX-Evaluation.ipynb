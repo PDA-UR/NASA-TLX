{
 "cells": [
  {
   "cell_type": "markdown",
   "metadata": {
    "collapsed": true
   },
   "source": [
    "# NASA-TLX Evaluation"
   ]
  },
  {
   "cell_type": "markdown",
   "metadata": {},
   "source": [
    "## Imports"
   ]
  },
  {
   "cell_type": "code",
   "execution_count": null,
   "metadata": {},
   "outputs": [],
   "source": [
    "import csv\n",
    "%matplotlib inline\n",
    "from pylab import *\n",
    "rcParams['figure.figsize'] = (16,9)\n",
    "rcParams['font.size'] = 12\n",
    "import numpy as np\n",
    "import scipy as sp\n",
    "import os\n",
    "import glob\n",
    "import pandas as pd\n",
    "import seaborn as sns\n",
    "from matplotlib.ticker import MultipleLocator\n",
    "import math"
   ]
  },
  {
   "cell_type": "markdown",
   "metadata": {},
   "source": [
    "## Data Acquisition"
   ]
  },
  {
   "cell_type": "code",
   "execution_count": null,
   "metadata": {},
   "outputs": [],
   "source": [
    "data_path = os.getcwd() + \"/log\"\n",
    "data_extension = \"csv\"\n",
    "os.chdir(data_path)\n",
    "data_files = glob.glob('*.{}'.format(data_extension))"
   ]
  },
  {
   "cell_type": "code",
   "execution_count": null,
   "metadata": {},
   "outputs": [],
   "source": [
    "tmp = [pd.read_csv(filename, index_col=None, header=0) for filename in data_files]\n",
    "\n",
    "df = pd.concat(tmp, axis=0, ignore_index=True)\n",
    "\n",
    "# add further or change as needed\n",
    "df_sys1 = df[df.sys == 1]\n",
    "df_sys2 = df[df.sys == 2]"
   ]
  },
  {
   "cell_type": "markdown",
   "metadata": {},
   "source": [
    "## Functions"
   ]
  },
  {
   "cell_type": "code",
   "execution_count": null,
   "metadata": {},
   "outputs": [],
   "source": [
    "def plot_boxplot(headers, data, title, with_swarmplot=False):\n",
    "    df = pd.DataFrame({k: v for k, v in zip(headers, data)})\n",
    "    \n",
    "    plot = sns.boxplot(data=df,\n",
    "                       width=0.15,\n",
    "                       palette=\"colorblind\")\n",
    "    \n",
    "    if with_swarmplot:\n",
    "        plot = plot_swarmplot(headers, data, title)\n",
    "    \n",
    "    plot.set_xlabel(title)\n",
    "    plot.set_ylabel(\"TLX\")\n",
    "    plot.axes.set_ylim(0, 20)\n",
    "    plot.axes.yaxis.set_major_locator(MultipleLocator(1))\n",
    "    \n",
    "    return plot\n",
    "\n",
    "def plot_swarmplot(headers, data, title, with_boxplot=False):\n",
    "    df = pd.DataFrame({k: v for k, v in zip(headers, data) if k not in [\"pid\", \"sys\"]})\n",
    "\n",
    "    plot = sns.swarmplot(data=df,\n",
    "                         alpha=0.75,\n",
    "                         color=\"black\",\n",
    "                         size=10)\n",
    "    \n",
    "    if with_boxplot:\n",
    "        plot = plot_boxplot(headers, data, title)\n",
    "    \n",
    "    plot.set_xlabel(title)\n",
    "    plot.set_ylabel(\"TLX\")\n",
    "    plot.axes.set_ylim(0, 20)\n",
    "    plot.axes.yaxis.set_major_locator(MultipleLocator(1))\n",
    "    \n",
    "    return plot\n",
    "\n",
    "def range_mean_median_sd(header, data):\n",
    "    data = list(data)    \n",
    "    print(f\"{header} ranges from {min(data)} to {max(data)} with a mean of {np.mean(data)} (sd. {sp.stats.tstd(data)}) and median of {np.median(data)}.\")\n",
    "    \n",
    "def ttest_all_items(df1, df2, kind=\"rel\"):    \n",
    "    if kind not in [\"rel\", \"ind\"]:\n",
    "        raise ValueError(\"Unknown kind of ttest. Use \\\"rel\\\" or \\\"ind\\\" based on your study design.\")\n",
    "    \n",
    "    for header, p in [(header, ttest_items(df1[header], df2[header])) for header in list(df1.columns) if header not in [\"pid\", \"sys\"]]:\n",
    "        print(f\"TTest_rel: {header} of System {list(df1['sys'])[0]} and System {list(df2['sys'])[0]} yields p = {p}\")\n",
    "        \n",
    "def ttest_items(df1, df2, kind=\"rel\"):\n",
    "    if kind not in [\"rel\", \"ind\"]:\n",
    "        raise ValueError(\"Unknown kind of ttest. Use \\\"rel\\\" or \\\"ind\\\" based on your study design.\")\n",
    "    \n",
    "    ttest = sp.stats.ttest_rel\n",
    "\n",
    "    if kind == \"rel\":\n",
    "        ttest = sp.stats.ttest_rel\n",
    "    \n",
    "    if kind == \"ind\":\n",
    "        ttest = sp.stats.ttest_ind\n",
    "        \n",
    "    _, p = ttest(list(df1), list(df2))\n",
    "    \n",
    "    return p\n",
    "        \n",
    "\n"
   ]
  },
  {
   "cell_type": "markdown",
   "metadata": {},
   "source": [
    "## Evaluation"
   ]
  },
  {
   "cell_type": "markdown",
   "metadata": {},
   "source": [
    "### Mental Demand"
   ]
  },
  {
   "cell_type": "code",
   "execution_count": null,
   "metadata": {},
   "outputs": [],
   "source": [
    "plot_boxplot([\"Mental Demand System1\", \"Mental Demand System2\"], [df_sys1[\"mental\"], df_sys2[\"mental\"]], \"Mental Demand\", with_swarmplot=True)\n",
    "range_mean_median_sd(\"Mental Demand for System1\", df_sys1[\"mental\"])\n",
    "range_mean_median_sd(\"Mental Demand for System2\", df_sys2[\"mental\"])"
   ]
  },
  {
   "cell_type": "markdown",
   "metadata": {},
   "source": [
    "### Physical Demand"
   ]
  },
  {
   "cell_type": "code",
   "execution_count": null,
   "metadata": {},
   "outputs": [],
   "source": [
    "plot_boxplot([\"Physical Demand System1\", \"Physical Demand System2\"], [df_sys1[\"physical\"], df_sys2[\"physical\"]], \"Physical Demand\", with_swarmplot=True)\n",
    "range_mean_median_sd(\"Physical Demand for System1\", df_sys1[\"physical\"])\n",
    "range_mean_median_sd(\"Physical Demand for System2\", df_sys2[\"physical\"])"
   ]
  },
  {
   "cell_type": "markdown",
   "metadata": {},
   "source": [
    "### Temporal Demand"
   ]
  },
  {
   "cell_type": "code",
   "execution_count": null,
   "metadata": {},
   "outputs": [],
   "source": [
    "plot_boxplot([\"Temporal Demand System1\", \"Temporal Demand System2\"], [df_sys1[\"temporal\"], df_sys2[\"temporal\"]], \"Temporal Demand\", with_swarmplot=True)\n",
    "range_mean_median_sd(\"Temporal Demand for System1\", df_sys1[\"temporal\"])\n",
    "range_mean_median_sd(\"Temporal Demand for System2\", df_sys2[\"temporal\"])"
   ]
  },
  {
   "cell_type": "markdown",
   "metadata": {},
   "source": [
    "### Performance"
   ]
  },
  {
   "cell_type": "code",
   "execution_count": null,
   "metadata": {},
   "outputs": [],
   "source": [
    "plot_boxplot([\"Performance System1\", \"Performance System2\"], [df_sys1[\"performance\"], df_sys2[\"performance\"]], \"Performance\", with_swarmplot=True)\n",
    "range_mean_median_sd(\"Performance for System1\", df_sys1[\"performance\"])\n",
    "range_mean_median_sd(\"Performance for System2\", df_sys2[\"performance\"])"
   ]
  },
  {
   "cell_type": "markdown",
   "metadata": {},
   "source": [
    "### Effort"
   ]
  },
  {
   "cell_type": "code",
   "execution_count": null,
   "metadata": {},
   "outputs": [],
   "source": [
    "plot_boxplot([\"Effort System1\", \"Effort System2\"], [df_sys1[\"effort\"], df_sys2[\"effort\"]], \"Effort\", with_swarmplot=True)\n",
    "range_mean_median_sd(\"Effort for System1\", df_sys1[\"effort\"])\n",
    "range_mean_median_sd(\"Effort for System2\", df_sys2[\"effort\"])"
   ]
  },
  {
   "cell_type": "markdown",
   "metadata": {},
   "source": [
    "### Frustration"
   ]
  },
  {
   "cell_type": "code",
   "execution_count": null,
   "metadata": {},
   "outputs": [],
   "source": [
    "plot_boxplot([\"Frustration System1\", \"Frustration System2\"], [df_sys1[\"frustration\"], df_sys2[\"frustration\"]], \"Frustration\", with_swarmplot=True)\n",
    "range_mean_median_sd(\"Frustration for System1\", df_sys1[\"frustration\"])\n",
    "range_mean_median_sd(\"Frustration for System2\", df_sys2[\"frustration\"])"
   ]
  },
  {
   "cell_type": "markdown",
   "metadata": {},
   "source": [
    "## Task Load Indices per System"
   ]
  },
  {
   "cell_type": "markdown",
   "metadata": {},
   "source": [
    "### System 1"
   ]
  },
  {
   "cell_type": "code",
   "execution_count": null,
   "metadata": {},
   "outputs": [],
   "source": [
    "plot_boxplot([\"Mental Demand\", \n",
    "              \"Physical Demand\",\n",
    "              \"Temporal Demand\",\n",
    "              \"Performance\",\n",
    "              \"Effort\",\n",
    "              \"Frustration\"], \n",
    "             [df_sys1[\"mental\"],\n",
    "              df_sys1[\"physical\"],\n",
    "              df_sys1[\"temporal\"],\n",
    "              df_sys1[\"performance\"],\n",
    "              df_sys1[\"effort\"],\n",
    "              df_sys1[\"frustration\"]], \"System 1\", with_swarmplot=True)\n"
   ]
  },
  {
   "cell_type": "markdown",
   "metadata": {},
   "source": [
    "### System 2"
   ]
  },
  {
   "cell_type": "code",
   "execution_count": null,
   "metadata": {},
   "outputs": [],
   "source": [
    "plot_boxplot([\"Mental Demand\", \n",
    "              \"Physical Demand\",\n",
    "              \"Temporal Demand\",\n",
    "              \"Performance\",\n",
    "              \"Effort\",\n",
    "              \"Frustration\"], \n",
    "             [df_sys2[\"mental\"],\n",
    "              df_sys2[\"physical\"],\n",
    "              df_sys2[\"temporal\"],\n",
    "              df_sys2[\"performance\"],\n",
    "              df_sys2[\"effort\"],\n",
    "              df_sys2[\"frustration\"]], \"System 2\", with_swarmplot=True)"
   ]
  },
  {
   "cell_type": "markdown",
   "metadata": {},
   "source": [
    "## Task Load Indices Comparisons"
   ]
  },
  {
   "cell_type": "code",
   "execution_count": null,
   "metadata": {},
   "outputs": [],
   "source": [
    "ttest_all_items(df_sys1, df_sys2)"
   ]
  }
 ],
 "metadata": {
  "kernelspec": {
   "display_name": "Python 3",
   "language": "python",
   "name": "python3"
  },
  "language_info": {
   "codemirror_mode": {
    "name": "ipython",
    "version": 3
   },
   "file_extension": ".py",
   "mimetype": "text/x-python",
   "name": "python",
   "nbconvert_exporter": "python",
   "pygments_lexer": "ipython3",
   "version": "3.9.2"
  }
 },
 "nbformat": 4,
 "nbformat_minor": 1
}
